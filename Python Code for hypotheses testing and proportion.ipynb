{
  "nbformat": 4,
  "nbformat_minor": 0,
  "metadata": {
    "colab": {
      "provenance": []
    },
    "kernelspec": {
      "name": "python3",
      "display_name": "Python 3"
    },
    "language_info": {
      "name": "python"
    }
  },
  "cells": [
    {
      "cell_type": "code",
      "execution_count": 1,
      "metadata": {
        "id": "FVhGrmVog0U1"
      },
      "outputs": [],
      "source": [
        "import pandas as pd\n",
        "import numpy as np\n",
        "import scipy.stats as stats\n",
        "import math\n",
        "from statsmodels.stats.proportion import proportions_ztest\n"
      ]
    },
    {
      "cell_type": "code",
      "source": [
        "\n",
        "dataset = pd.read_csv(\"/content/Social_Network_Ads.csv\")\n",
        "print(dataset)"
      ],
      "metadata": {
        "colab": {
          "base_uri": "https://localhost:8080/"
        },
        "id": "OYSGPPjdhA2L",
        "outputId": "1adf301f-005f-46f0-ecb0-08b15d266acf"
      },
      "execution_count": 2,
      "outputs": [
        {
          "output_type": "stream",
          "name": "stdout",
          "text": [
            "      User ID  Gender  Age  EstimatedSalary  Purchased\n",
            "0    15624510    Male   19            19000          0\n",
            "1    15810944    Male   35            20000          0\n",
            "2    15668575  Female   26            43000          0\n",
            "3    15603246  Female   27            57000          0\n",
            "4    15804002    Male   19            76000          0\n",
            "..        ...     ...  ...              ...        ...\n",
            "395  15691863  Female   46            41000          1\n",
            "396  15706071    Male   51            23000          1\n",
            "397  15654296  Female   50            20000          1\n",
            "398  15755018    Male   36            33000          0\n",
            "399  15594041  Female   49            36000          1\n",
            "\n",
            "[400 rows x 5 columns]\n"
          ]
        }
      ]
    },
    {
      "cell_type": "code",
      "source": [
        "x1 = dataset.iloc[:,1]\n",
        "x2 = dataset.iloc[:,2]\n",
        "x3 = dataset.iloc[:,3]\n",
        "x4 = dataset.iloc[:,4]\n"
      ],
      "metadata": {
        "id": "nG_rMuEqiUD3"
      },
      "execution_count": 3,
      "outputs": []
    },
    {
      "cell_type": "markdown",
      "source": [
        "# **Population Mean of Male and Female**"
      ],
      "metadata": {
        "id": "Vnq16JYsaXzs"
      }
    },
    {
      "cell_type": "code",
      "source": [
        "PopulationMean = dataset.groupby('Gender', as_index=False).Age.mean()\n",
        "print(PopulationMean)"
      ],
      "metadata": {
        "colab": {
          "base_uri": "https://localhost:8080/"
        },
        "id": "Iyw9Q4Gpiajj",
        "outputId": "e327cbfc-8e00-4b0a-ad43-27286be2fc10"
      },
      "execution_count": 4,
      "outputs": [
        {
          "output_type": "stream",
          "name": "stdout",
          "text": [
            "   Gender        Age\n",
            "0  Female  38.411765\n",
            "1    Male  36.867347\n"
          ]
        }
      ]
    },
    {
      "cell_type": "markdown",
      "source": [
        "# **Population Variance of Male and Female**"
      ],
      "metadata": {
        "id": "_VF6JLwJa-Do"
      }
    },
    {
      "cell_type": "code",
      "source": [
        "PopulationVariance = dataset.groupby('Gender')\n",
        "for gender, value in PopulationVariance['Age']:\n",
        "    print((gender, value.var(ddof=0)))"
      ],
      "metadata": {
        "colab": {
          "base_uri": "https://localhost:8080/"
        },
        "id": "tJBPiSGsie1B",
        "outputId": "5d3927e8-e9f1-4600-dc6e-30af9b1b9df3"
      },
      "execution_count": 5,
      "outputs": [
        {
          "output_type": "stream",
          "name": "stdout",
          "text": [
            "('Female', 117.34025374855825)\n",
            "('Male', 100.35995418575592)\n"
          ]
        }
      ]
    },
    {
      "cell_type": "markdown",
      "source": [
        "# **Ads Purchased of Male and Female**"
      ],
      "metadata": {
        "id": "mRz5_3yocYgx"
      }
    },
    {
      "cell_type": "code",
      "source": [
        "Ads = dataset.groupby([\"Gender\", \"Purchased\"]).size()\n",
        "print(Ads)"
      ],
      "metadata": {
        "colab": {
          "base_uri": "https://localhost:8080/"
        },
        "id": "9nAQSAacijN6",
        "outputId": "9eda966d-60b1-4892-e073-6fb4ccbe0579"
      },
      "execution_count": 6,
      "outputs": [
        {
          "output_type": "stream",
          "name": "stdout",
          "text": [
            "Gender  Purchased\n",
            "Female  0            127\n",
            "        1             77\n",
            "Male    0            130\n",
            "        1             66\n",
            "dtype: int64\n"
          ]
        }
      ]
    },
    {
      "cell_type": "markdown",
      "source": [
        "# **Male Proportion (Q)**"
      ],
      "metadata": {
        "id": "Ja1U8Jz4cqDn"
      }
    },
    {
      "cell_type": "code",
      "source": [
        "pm = (66/400)\n",
        "print(pm)\n",
        "qm = (1-pm)\n",
        "print(qm)\n"
      ],
      "metadata": {
        "colab": {
          "base_uri": "https://localhost:8080/"
        },
        "id": "GsGgFvKtinsf",
        "outputId": "53553ee4-4396-4d21-f0df-2cb866e44672"
      },
      "execution_count": 7,
      "outputs": [
        {
          "output_type": "stream",
          "name": "stdout",
          "text": [
            "0.165\n",
            "0.835\n"
          ]
        }
      ]
    },
    {
      "cell_type": "markdown",
      "source": [
        "# **Female Proportion (Q)**\n"
      ],
      "metadata": {
        "id": "UC7pcyDhcyne"
      }
    },
    {
      "cell_type": "code",
      "source": [
        "pf = (77/400)\n",
        "print(pf)\n",
        "qp = (1-pf)\n",
        "print(qp)"
      ],
      "metadata": {
        "colab": {
          "base_uri": "https://localhost:8080/"
        },
        "id": "ZoG9uh2fitio",
        "outputId": "9e59d3f8-55b5-4c1b-feed-40221ba97dfc"
      },
      "execution_count": 8,
      "outputs": [
        {
          "output_type": "stream",
          "name": "stdout",
          "text": [
            "0.1925\n",
            "0.8075\n"
          ]
        }
      ]
    },
    {
      "cell_type": "markdown",
      "source": [
        "# **Random Sample of 30**"
      ],
      "metadata": {
        "id": "GhkOAy2Bd8zw"
      }
    },
    {
      "cell_type": "code",
      "source": [
        "randomsample = dataset.groupby('Gender', as_index=False).sample(30)\n",
        "print(randomsample)"
      ],
      "metadata": {
        "colab": {
          "base_uri": "https://localhost:8080/"
        },
        "id": "lor-3hKWiyAT",
        "outputId": "68a2d639-8599-48d8-85ec-567c34b89ae5"
      },
      "execution_count": 9,
      "outputs": [
        {
          "output_type": "stream",
          "name": "stdout",
          "text": [
            "      User ID  Gender  Age  EstimatedSalary  Purchased\n",
            "191  15662067  Female   19            26000          0\n",
            "102  15584545  Female   32            86000          0\n",
            "297  15705298  Female   43           112000          1\n",
            "10   15570769  Female   26            80000          0\n",
            "224  15575002  Female   35            60000          0\n",
            "324  15575247  Female   48           131000          1\n",
            "218  15666675  Female   46            96000          0\n",
            "153  15619087  Female   36            50000          0\n",
            "150  15679651  Female   26            15000          0\n",
            "255  15750056  Female   52            90000          1\n",
            "52   15744919  Female   29            83000          0\n",
            "181  15774727  Female   31            71000          0\n",
            "162  15599533  Female   37            33000          0\n",
            "258  15569641  Female   58            95000          1\n",
            "21   15736760  Female   47            49000          1\n",
            "56   15775562  Female   23            48000          0\n",
            "182  15694288  Female   32           117000          1\n",
            "242  15780572  Female   50            88000          1\n",
            "120  15811613  Female   36            75000          0\n",
            "325  15695679  Female   41            60000          0\n",
            "184  15759066  Female   33            60000          0\n",
            "352  15587419  Female   42            90000          1\n",
            "399  15594041  Female   49            36000          1\n",
            "309  15652400  Female   38            50000          0\n",
            "23   15599081  Female   45            22000          1\n",
            "55   15649136  Female   24            55000          0\n",
            "124  15678168  Female   41            51000          0\n",
            "306  15603942  Female   51           134000          0\n",
            "342  15717560  Female   38            65000          0\n",
            "279  15759684  Female   50            36000          1\n",
            "45   15639277    Male   23            20000          0\n",
            "90   15684801    Male   22            81000          0\n",
            "116  15679297    Male   35            75000          0\n",
            "42   15772798    Male   35           108000          0\n",
            "100  15766289    Male   27            88000          0\n",
            "76   15746737    Male   18            52000          0\n",
            "177  15594577    Male   25            22000          0\n",
            "317  15684861    Male   35            55000          0\n",
            "381  15670615    Male   48            33000          1\n",
            "132  15725660    Male   30            87000          0\n",
            "367  15671249    Male   46            88000          1\n",
            "108  15720943    Male   26            86000          0\n",
            "349  15721835    Male   38            61000          0\n",
            "373  15708791    Male   59           130000          1\n",
            "380  15683758    Male   42            64000          0\n",
            "198  15745083    Male   26            80000          0\n",
            "119  15701962    Male   41            59000          0\n",
            "391  15592570    Male   47            23000          1\n",
            "398  15755018    Male   36            33000          0\n",
            "192  15779581    Male   29            43000          0\n",
            "359  15709183    Male   42            54000          0\n",
            "113  15773447    Male   37            55000          0\n",
            "241  15736228    Male   38            59000          0\n",
            "332  15769902    Male   42            65000          0\n",
            "290  15586757    Male   39           134000          1\n",
            "356  15778368    Male   54            70000          1\n",
            "34   15724858    Male   27            90000          0\n",
            "201  15708196    Male   49            74000          0\n",
            "86   15694946    Male   24            55000          0\n",
            "48   15727696    Male   30           135000          1\n"
          ]
        }
      ]
    },
    {
      "cell_type": "code",
      "source": [
        "pSample = randomsample.groupby([\"Gender\", \"Purchased\"]).size()\n",
        "print(pSample)"
      ],
      "metadata": {
        "colab": {
          "base_uri": "https://localhost:8080/"
        },
        "id": "b9ZzlYJAi3vy",
        "outputId": "34f2d762-707c-43c5-f6a0-678e4ea6b2da"
      },
      "execution_count": 10,
      "outputs": [
        {
          "output_type": "stream",
          "name": "stdout",
          "text": [
            "Gender  Purchased\n",
            "Female  0            19\n",
            "        1            11\n",
            "Male    0            23\n",
            "        1             7\n",
            "dtype: int64\n"
          ]
        }
      ]
    },
    {
      "cell_type": "markdown",
      "source": [
        "# **Proportion of Males and females whos ads were Purchased**"
      ],
      "metadata": {
        "id": "VRdfS0oUeq--"
      }
    },
    {
      "cell_type": "code",
      "source": [
        "significance = 0.05\n",
        "\n",
        "sample_success_a, sample_size_a = (11, 30)\n",
        "sample_success_b, sample_size_b = (7, 30)"
      ],
      "metadata": {
        "id": "p9teQnx_nvsC"
      },
      "execution_count": 12,
      "outputs": []
    },
    {
      "cell_type": "code",
      "source": [
        "successes = np.array([sample_success_a, sample_success_b])\n",
        "samples = np.array([sample_size_a, sample_size_b])"
      ],
      "metadata": {
        "id": "GHRJNi_ZqVsf"
      },
      "execution_count": 13,
      "outputs": []
    },
    {
      "cell_type": "code",
      "source": [
        "stat, p_value = proportions_ztest(count=successes, nobs=samples,  alternative='two-sided')"
      ],
      "metadata": {
        "id": "VTlMiGaLrNC4"
      },
      "execution_count": 14,
      "outputs": []
    },
    {
      "cell_type": "code",
      "source": [
        "print('z_stat: %0.3f, p_value: %0.3f' % (stat, p_value))"
      ],
      "metadata": {
        "colab": {
          "base_uri": "https://localhost:8080/"
        },
        "id": "p1V2rzkarWSc",
        "outputId": "42b235d7-6264-4f1f-b9a5-b2bc22880635"
      },
      "execution_count": 15,
      "outputs": [
        {
          "output_type": "stream",
          "name": "stdout",
          "text": [
            "z_stat: 1.127, p_value: 0.260\n"
          ]
        }
      ]
    },
    {
      "cell_type": "code",
      "source": [
        "if p_value > significance:\n",
        "   print (\"Fail to reject the null hypothesis\")\n",
        "else:\n",
        "   print (\"Reject the null hypothesis - suggest the alternative hypothesis is true\")"
      ],
      "metadata": {
        "colab": {
          "base_uri": "https://localhost:8080/"
        },
        "id": "6Ltj4YRAsFQ2",
        "outputId": "a313ed67-89b3-402a-e91c-8a0c0f0700a5"
      },
      "execution_count": 16,
      "outputs": [
        {
          "output_type": "stream",
          "name": "stdout",
          "text": [
            "Fail to reject the null hypothesis\n"
          ]
        }
      ]
    },
    {
      "cell_type": "markdown",
      "source": [
        "# **Proportion of Males and females whos ads were Not Purchased**"
      ],
      "metadata": {
        "id": "PpaB8kEAfEoy"
      }
    },
    {
      "cell_type": "code",
      "source": [
        "significance = 0.05\n",
        "\n",
        "sample_success_a, sample_size_a = (19, 30)\n",
        "sample_success_b, sample_size_b = (23, 30)"
      ],
      "metadata": {
        "id": "RVRFvoR1nb-_"
      },
      "execution_count": 17,
      "outputs": []
    },
    {
      "cell_type": "code",
      "source": [
        "successes = np.array([sample_success_a, sample_success_b])\n",
        "samples = np.array([sample_size_a, sample_size_b])"
      ],
      "metadata": {
        "id": "y41YSWy4tfCu"
      },
      "execution_count": 18,
      "outputs": []
    },
    {
      "cell_type": "code",
      "source": [
        "stat, p_value = proportions_ztest(count=successes, nobs=samples,  alternative='two-sided')"
      ],
      "metadata": {
        "id": "rF_RDWsWdgPb"
      },
      "execution_count": 19,
      "outputs": []
    },
    {
      "cell_type": "code",
      "source": [
        "print('z_stat: %0.3f, p_value: %0.3f' % (stat, p_value))"
      ],
      "metadata": {
        "colab": {
          "base_uri": "https://localhost:8080/"
        },
        "id": "7hZzESomdmPq",
        "outputId": "fde271e9-dd1d-49fb-a864-c78f774520b3"
      },
      "execution_count": 20,
      "outputs": [
        {
          "output_type": "stream",
          "name": "stdout",
          "text": [
            "z_stat: -1.127, p_value: 0.260\n"
          ]
        }
      ]
    },
    {
      "cell_type": "code",
      "source": [
        "if p_value > significance:\n",
        "   print (\"Fail to reject the null hypothesis\")\n",
        "else:\n",
        "   print (\"Reject the null hypothesis - suggest the alternative hypothesis is true\")"
      ],
      "metadata": {
        "colab": {
          "base_uri": "https://localhost:8080/"
        },
        "id": "L5soj9_dduXj",
        "outputId": "b13cfe95-fd95-4e99-ac32-81053be2c738"
      },
      "execution_count": 21,
      "outputs": [
        {
          "output_type": "stream",
          "name": "stdout",
          "text": [
            "Fail to reject the null hypothesis\n"
          ]
        }
      ]
    },
    {
      "cell_type": "markdown",
      "source": [
        "# **Hypotheses Testing**\n",
        "\n",
        "HO: Variance of male and female are equal σ1=σ2\n",
        "\n",
        "HA: Variance of male and female are not equal σ1!=σ2"
      ],
      "metadata": {
        "id": "lwSqhFEwfkxk"
      }
    },
    {
      "cell_type": "code",
      "source": [
        "Male_sample = randomsample[randomsample['Gender']=='Male']\n",
        "Female_Sample = randomsample[randomsample['Gender']=='Female']\n",
        "y1=Male_sample['Age']\n",
        "y2=Female_Sample['Age']\n",
        "\n"
      ],
      "metadata": {
        "id": "4_wuLB__gQhZ"
      },
      "execution_count": 24,
      "outputs": []
    },
    {
      "cell_type": "code",
      "source": [
        "def f_test(x, y):\n",
        "    X1=np.array(x1)\n",
        "    X2=np.array(x2)\n",
        "    f = np.var(y1, ddof=1)/np.var(y2, ddof=1)\n",
        "    dfn = y1.size-1 \n",
        "    dfd = y2.size-1\n",
        "    p = 1-stats.f.cdf(f, dfn, dfd)\n",
        "    if p>0.05:\n",
        "        print(f'The value of p is {p}, We will accept Null Hypothesis')\n",
        "    else:\n",
        "        print(f'The value of p is {p}, We will reject Null Hypothesis')\n",
        "\n",
        "\n",
        "\n",
        "\n",
        "f_test(y1,y2)"
      ],
      "metadata": {
        "colab": {
          "base_uri": "https://localhost:8080/"
        },
        "id": "rZ1uB5pXg8Rv",
        "outputId": "692196c4-92e4-4830-c95f-ff34173c4d2a"
      },
      "execution_count": 26,
      "outputs": [
        {
          "output_type": "stream",
          "name": "stdout",
          "text": [
            "The value of p is 0.44751229434969975, We will accept Null Hypothesis\n"
          ]
        }
      ]
    },
    {
      "cell_type": "markdown",
      "source": [
        "# **The Equality of Ages of Males and Females**"
      ],
      "metadata": {
        "id": "FtsCfH3mmCmr"
      }
    },
    {
      "cell_type": "code",
      "source": [
        "femaleAge = [19, 32, 43, 26, 35, 48, 46, 36, 26, 52, 29, 31, 37, 58, 47, 23, 32, 50, 36, 41, 33, 42, 49, 20, 25, 26, 35, 35, 56, 31]\n",
        "maleAge = [23, 27, 23, 25, 22, 35, 35, 27, 18, 25, 35, 48, 30, 46, 26, 38, 59, 42, 26, 41, 47, 36, 29, 42, 37, 38, 42, 39, 45, 25]\n",
        "\n",
        "stats.levene(femaleAge, maleAge, center='median')"
      ],
      "metadata": {
        "colab": {
          "base_uri": "https://localhost:8080/"
        },
        "id": "nn6V0EXPmVk4",
        "outputId": "1c608ca1-dca0-49cd-adfe-1513904fbcc4"
      },
      "execution_count": 27,
      "outputs": [
        {
          "output_type": "execute_result",
          "data": {
            "text/plain": [
              "LeveneResult(statistic=0.09387283236994226, pvalue=0.7604073870912019)"
            ]
          },
          "metadata": {},
          "execution_count": 27
        }
      ]
    },
    {
      "cell_type": "markdown",
      "source": [
        "# **The equality of means of ages of Males and Females**"
      ],
      "metadata": {
        "id": "bbH8hkALspid"
      }
    },
    {
      "cell_type": "code",
      "source": [
        "femaleAge = [19, 32, 43, 26, 35, 48, 46, 36, 26, 52, 29, 31, 37, 58, 47, 23, 32, 50, 36, 41, 33, 42, 49, 20, 25, 26, 35, 35, 56, 31]\n",
        "maleAge = [23, 27, 23, 25, 22, 35, 35, 27, 18, 25, 35, 48, 30, 46, 26, 38, 59, 42, 26, 41, 47, 36, 29, 42, 37, 38, 42, 39, 45, 25]\n",
        "\n",
        "stats.levene(femaleAge, maleAge, center='mean')"
      ],
      "metadata": {
        "colab": {
          "base_uri": "https://localhost:8080/"
        },
        "id": "byKjntGtsvcL",
        "outputId": "e721e458-6753-4ad0-a716-0acf47edd3c9"
      },
      "execution_count": 28,
      "outputs": [
        {
          "output_type": "execute_result",
          "data": {
            "text/plain": [
              "LeveneResult(statistic=0.16129923998986076, pvalue=0.6894391892770487)"
            ]
          },
          "metadata": {},
          "execution_count": 28
        }
      ]
    },
    {
      "cell_type": "markdown",
      "source": [
        "# CONCLUSION\n",
        "\n",
        "a: There are 95% surety that both male and female equally purchasing ads\n",
        "\n",
        "b: There are 95% surety that proportion of male and female are equal in terms of notpurchasing ads \n",
        "\n",
        "c: We are 95% sure that variances male and female ages are equal\n",
        "\n",
        "d: We are 95% sure that means male and female are equal\n",
        "\n",
        "\n"
      ],
      "metadata": {
        "id": "84MJui6gtY-n"
      }
    },
    {
      "cell_type": "markdown",
      "source": [
        "# SUMMARY\n",
        "\n",
        "After Analyzing the campaign we identify that both men and women have same buying behavior\n",
        "\n",
        "# TITLE\n",
        "\n",
        "STATISTICAL MODELING"
      ],
      "metadata": {
        "id": "5er-my7DvUOP"
      }
    }
  ]
}
